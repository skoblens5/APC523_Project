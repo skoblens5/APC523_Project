{
 "cells": [
  {
   "cell_type": "code",
   "execution_count": 1,
   "metadata": {},
   "outputs": [],
   "source": [
    "### Imports\n",
    "import numpy as np\n",
    "import matplotlib.pyplot as plt\n",
    "from numba import njit  \n",
    "import sys\n",
    "from numpy.polynomial.legendre import leggauss\n",
    "from scipy.sparse import diags\n",
    "from scipy.sparse.linalg import bicgstab\n",
    "from numpy.linalg import norm\n",
    "from matplotlib import cm\n",
    "from matplotlib.colors import Normalize\n",
    "from drop_simulation import DropSimulation\n",
    "#from functions import *\n",
    "#from integrators import *"
   ]
  },
  {
   "cell_type": "code",
   "execution_count": 2,
   "metadata": {},
   "outputs": [
    {
     "name": "stdout",
     "output_type": "stream",
     "text": [
      "Time: 0, Delta New: [0.99300948 0.99300948 0.99160669 0.98910829 0.98555285], V_new: 2.035225463988038\n",
      "Time: 0.0011, Delta New: [0.98705938 0.98705938 0.98571386 0.98329339 0.9798329 ], V_new: 2.084345761675724\n",
      "Time: 0.0022, Delta New: [0.98137261 0.98137261 0.98006387 0.97770485 0.97432704], V_new: 2.084080022365094\n",
      "Time: 0.0033, Delta New: [0.97591066 0.97591066 0.974632   0.97232592 0.96902201], V_new: 2.083846915777027\n",
      "Time: 0.0044, Delta New: [0.97065111 0.97065111 0.96939911 0.96714069 0.9639042 ], V_new: 2.0836423496664045\n",
      "Time: 0.0055000000000000005, Delta New: [0.96557736 0.96557736 0.96434977 0.96213514 0.95896098], V_new: 2.083464727949116\n",
      "Time: 0.006600000000000001, Delta New: [0.96067581 0.96067581 0.95947085 0.95729695 0.95418089], V_new: 2.0833039655875667\n",
      "Time: 0.007700000000000001, Delta New: [0.95593476 0.95593476 0.95475098 0.9526152  0.94955362], V_new: 2.0831609811598173\n",
      "Time: 0.0088, Delta New: [0.95134392 0.95134392 0.95018004 0.94808012 0.94506981], V_new: 2.083031263474231\n",
      "Time: 0.0099, Delta New: [0.94689406 0.94689406 0.94574896 0.94368289 0.94072103], V_new: 2.0829106455708946\n"
     ]
    },
    {
     "ename": "KeyboardInterrupt",
     "evalue": "",
     "output_type": "error",
     "traceback": [
      "\u001b[0;31m---------------------------------------------------------------------------\u001b[0m",
      "\u001b[0;31mKeyboardInterrupt\u001b[0m                         Traceback (most recent call last)",
      "Cell \u001b[0;32mIn[2], line 2\u001b[0m\n\u001b[1;32m      1\u001b[0m simulator_implicit \u001b[38;5;241m=\u001b[39m DropSimulation(N\u001b[38;5;241m=\u001b[39m\u001b[38;5;241m32\u001b[39m, DT\u001b[38;5;241m=\u001b[39m\u001b[38;5;241m0.001\u001b[39m, SIMULATION_TIME\u001b[38;5;241m=\u001b[39m\u001b[38;5;241m100\u001b[39m, method\u001b[38;5;241m=\u001b[39m\u001b[38;5;124m'\u001b[39m\u001b[38;5;124mimplicit\u001b[39m\u001b[38;5;124m'\u001b[39m, integration_method\u001b[38;5;241m=\u001b[39m\u001b[38;5;124m'\u001b[39m\u001b[38;5;124mtrapezoidal\u001b[39m\u001b[38;5;124m'\u001b[39m)\n\u001b[0;32m----> 2\u001b[0m results_implicit \u001b[38;5;241m=\u001b[39m \u001b[43msimulator_implicit\u001b[49m\u001b[38;5;241;43m.\u001b[39;49m\u001b[43mrun_simulation\u001b[49m\u001b[43m(\u001b[49m\u001b[43m)\u001b[49m\n",
      "File \u001b[0;32m~/APC-523/APC523_Project2/APC523_Project/src/drop_simulation.py:250\u001b[0m, in \u001b[0;36mDropSimulation.run_simulation\u001b[0;34m(self)\u001b[0m\n\u001b[1;32m    247\u001b[0m time_val \u001b[38;5;241m=\u001b[39m \u001b[38;5;241m0\u001b[39m\n\u001b[1;32m    249\u001b[0m \u001b[38;5;28;01mwhile\u001b[39;00m time_val \u001b[38;5;241m<\u001b[39m \u001b[38;5;28mself\u001b[39m\u001b[38;5;241m.\u001b[39mSIMULATION_TIME:\n\u001b[0;32m--> 250\u001b[0m     delta_new, dt \u001b[38;5;241m=\u001b[39m \u001b[38;5;28;43mself\u001b[39;49m\u001b[38;5;241;43m.\u001b[39;49m\u001b[43mupdate_profile\u001b[49m\u001b[43m(\u001b[49m\u001b[38;5;28;43mself\u001b[39;49m\u001b[38;5;241;43m.\u001b[39;49m\u001b[43mdelta\u001b[49m\u001b[43m,\u001b[49m\u001b[43m \u001b[49m\u001b[38;5;28;43mself\u001b[39;49m\u001b[38;5;241;43m.\u001b[39;49m\u001b[43mb\u001b[49m\u001b[43m,\u001b[49m\u001b[43m \u001b[49m\u001b[38;5;28;43mself\u001b[39;49m\u001b[38;5;241;43m.\u001b[39;49m\u001b[43mxi\u001b[49m\u001b[43m,\u001b[49m\u001b[43m \u001b[49m\u001b[38;5;28;43mself\u001b[39;49m\u001b[38;5;241;43m.\u001b[39;49m\u001b[43mDT\u001b[49m\u001b[43m)\u001b[49m\n\u001b[1;32m    251\u001b[0m     V_new \u001b[38;5;241m=\u001b[39m \u001b[38;5;28mself\u001b[39m\u001b[38;5;241m.\u001b[39mcalculate_volume(\u001b[38;5;28mself\u001b[39m\u001b[38;5;241m.\u001b[39mb, delta_new)\n\u001b[1;32m    253\u001b[0m     \u001b[38;5;28mself\u001b[39m\u001b[38;5;241m.\u001b[39mb \u001b[38;5;241m=\u001b[39m \u001b[38;5;28mself\u001b[39m\u001b[38;5;241m.\u001b[39mvolume_shooting(\u001b[38;5;28mself\u001b[39m\u001b[38;5;241m.\u001b[39mb, delta_new)\n",
      "File \u001b[0;32m~/APC-523/APC523_Project2/APC523_Project/src/drop_simulation.py:197\u001b[0m, in \u001b[0;36mDropSimulation.update_profile\u001b[0;34m(self, delta, b, xi, dt)\u001b[0m\n\u001b[1;32m    194\u001b[0m \u001b[38;5;28;01mwhile\u001b[39;00m err \u001b[38;5;241m>\u001b[39m \u001b[38;5;241m1E-10\u001b[39m:\n\u001b[1;32m    195\u001b[0m     \u001b[38;5;66;03m# solve for delta_new through matrix inversion\u001b[39;00m\n\u001b[1;32m    196\u001b[0m     A \u001b[38;5;241m=\u001b[39m \u001b[38;5;28mself\u001b[39m\u001b[38;5;241m.\u001b[39mcreate_matrix(delta_new, b, xi, dt)\n\u001b[0;32m--> 197\u001b[0m     delta_new_2 \u001b[38;5;241m=\u001b[39m \u001b[43mnp\u001b[49m\u001b[38;5;241;43m.\u001b[39;49m\u001b[43mlinalg\u001b[49m\u001b[38;5;241;43m.\u001b[39;49m\u001b[43msolve\u001b[49m\u001b[43m(\u001b[49m\u001b[43mA\u001b[49m\u001b[43m,\u001b[49m\u001b[43m \u001b[49m\u001b[43mRHS\u001b[49m\u001b[43m)\u001b[49m\n\u001b[1;32m    198\u001b[0m     err \u001b[38;5;241m=\u001b[39m np\u001b[38;5;241m.\u001b[39mabs(np\u001b[38;5;241m.\u001b[39mmax(delta_new_2 \u001b[38;5;241m-\u001b[39m delta_new))\n\u001b[1;32m    199\u001b[0m     delta_new \u001b[38;5;241m=\u001b[39m delta_new_2\n",
      "File \u001b[0;32m<__array_function__ internals>:200\u001b[0m, in \u001b[0;36msolve\u001b[0;34m(*args, **kwargs)\u001b[0m\n",
      "File \u001b[0;32m~/.pyenv/versions/3.8.12/lib/python3.8/site-packages/numpy/linalg/linalg.py:386\u001b[0m, in \u001b[0;36msolve\u001b[0;34m(a, b)\u001b[0m\n\u001b[1;32m    384\u001b[0m signature \u001b[38;5;241m=\u001b[39m \u001b[38;5;124m'\u001b[39m\u001b[38;5;124mDD->D\u001b[39m\u001b[38;5;124m'\u001b[39m \u001b[38;5;28;01mif\u001b[39;00m isComplexType(t) \u001b[38;5;28;01melse\u001b[39;00m \u001b[38;5;124m'\u001b[39m\u001b[38;5;124mdd->d\u001b[39m\u001b[38;5;124m'\u001b[39m\n\u001b[1;32m    385\u001b[0m extobj \u001b[38;5;241m=\u001b[39m get_linalg_error_extobj(_raise_linalgerror_singular)\n\u001b[0;32m--> 386\u001b[0m r \u001b[38;5;241m=\u001b[39m \u001b[43mgufunc\u001b[49m\u001b[43m(\u001b[49m\u001b[43ma\u001b[49m\u001b[43m,\u001b[49m\u001b[43m \u001b[49m\u001b[43mb\u001b[49m\u001b[43m,\u001b[49m\u001b[43m \u001b[49m\u001b[43msignature\u001b[49m\u001b[38;5;241;43m=\u001b[39;49m\u001b[43msignature\u001b[49m\u001b[43m,\u001b[49m\u001b[43m \u001b[49m\u001b[43mextobj\u001b[49m\u001b[38;5;241;43m=\u001b[39;49m\u001b[43mextobj\u001b[49m\u001b[43m)\u001b[49m\n\u001b[1;32m    388\u001b[0m \u001b[38;5;28;01mreturn\u001b[39;00m wrap(r\u001b[38;5;241m.\u001b[39mastype(result_t, copy\u001b[38;5;241m=\u001b[39m\u001b[38;5;28;01mFalse\u001b[39;00m))\n",
      "\u001b[0;31mKeyboardInterrupt\u001b[0m: "
     ]
    }
   ],
   "source": [
    "simulator_implicit = DropSimulation(N=32, DT=0.001, SIMULATION_TIME=100, method='implicit', integration_method='trapezoidal')\n",
    "results_implicit = simulator_implicit.run_simulation()"
   ]
  },
  {
   "cell_type": "code",
   "execution_count": null,
   "metadata": {},
   "outputs": [],
   "source": [
    "import numpy as np\n",
    "import matplotlib.pyplot as plt\n",
    "C = 1  # Adjust as per the problem's requirement for correct scaling\n",
    "G = 9.81  # Gravitational constant\n",
    "N = 32 \n",
    "xi = np.linspace(0, 1, N)\n",
    "delta = np.sqrt(1 - xi**2)\n",
    "b = 1.0\n",
    "V0 = trapezoidal_integral(b * xi, delta)\n",
    "\n",
    "# Calculate absolute difference from the initial volume\n",
    "volume_errors = (np.array(results_implicit['volumes']) - results_implicit['volumes'][0])\n",
    "\n",
    "# Plotting the error over time on a logarithmic scale\n",
    "plt.figure(figsize=(10, 6))\n",
    "plt.loglog(results_implicit['times'], volume_errors, marker='o', linestyle='-')\n",
    "plt.xlabel('Time (s)')\n",
    "plt.ylabel(r'$|V-V_0|$')\n",
    "plt.title('Error in Volume Conservation Over Time')\n",
    "plt.grid(True, which=\"both\", ls=\"--\")\n",
    "#plt.savefig('Volume_ERR_Implicit_'+str(N)+'.png')\n",
    "#plt.savefig('Volume_ERR_Implicit_'+str(N)+'.svg', format='svg', dpi=1200)\n",
    "plt.show()"
   ]
  },
  {
   "cell_type": "code",
   "execution_count": null,
   "metadata": {},
   "outputs": [],
   "source": [
    "# Constants for scaling\n",
    "C = 1  # Adjust as per the problem's requirement for correct scaling\n",
    "G = 9.81  # Gravitational constant\n",
    "N = 32 \n",
    "xi = np.linspace(0, 1, N)\n",
    "delta = np.sqrt(1 - xi**2)\n",
    "b = 1.0\n",
    "V0 = trapezoidal_integral(b * xi, delta)\n",
    "\n",
    "#xi, times, bs, volumes, deltas = main_simulation()\n",
    "plot_similarity_solution(results_implicit['xi'], results_implicit['times'], results_implicit['bs'], results_implicit['deltas'], results_implicit['volumes'][0])"
   ]
  }
 ],
 "metadata": {
  "kernelspec": {
   "display_name": "Python (myenv)",
   "language": "python",
   "name": "myenv"
  },
  "language_info": {
   "codemirror_mode": {
    "name": "ipython",
    "version": 3
   },
   "file_extension": ".py",
   "mimetype": "text/x-python",
   "name": "python",
   "nbconvert_exporter": "python",
   "pygments_lexer": "ipython3",
   "version": "3.8.12"
  }
 },
 "nbformat": 4,
 "nbformat_minor": 2
}
